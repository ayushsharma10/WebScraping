{
 "cells": [
  {
   "cell_type": "code",
   "execution_count": 5,
   "metadata": {},
   "outputs": [],
   "source": [
    "a = ['']\n",
    "a.extend(['-'+str(i) for i in (range(2,11))])"
   ]
  },
  {
   "cell_type": "code",
   "execution_count": 11,
   "metadata": {},
   "outputs": [],
   "source": [
    "from urllib.request import Request"
   ]
  },
  {
   "cell_type": "code",
   "execution_count": 7,
   "metadata": {},
   "outputs": [
    {
     "name": "stdout",
     "output_type": "stream",
     "text": [
      "https://www.naukri.com/software-developer-jobs?k=software%20developer\n",
      "https://www.naukri.com/software-developer-jobs-2?k=software%20developer\n",
      "https://www.naukri.com/software-developer-jobs-3?k=software%20developer\n",
      "https://www.naukri.com/software-developer-jobs-4?k=software%20developer\n",
      "https://www.naukri.com/software-developer-jobs-5?k=software%20developer\n",
      "https://www.naukri.com/software-developer-jobs-6?k=software%20developer\n",
      "https://www.naukri.com/software-developer-jobs-7?k=software%20developer\n",
      "https://www.naukri.com/software-developer-jobs-8?k=software%20developer\n",
      "https://www.naukri.com/software-developer-jobs-9?k=software%20developer\n",
      "https://www.naukri.com/software-developer-jobs-10?k=software%20developer\n"
     ]
    }
   ],
   "source": [
    "from urllib.request import urlopen as uReq\n",
    "from bs4 import BeautifulSoup as soup\n",
    "\n",
    "pages = ['']\n",
    "pages.extend(['-'+str(i) for i in (range(2,11))])\n",
    "\n",
    "for page_num in pages:\n",
    "    url = 'https://www.naukri.com/software-developer-jobs'+ page_num +'?k=software%20developer'\n",
    "    uClient = uReq(url)\n",
    "    page_html = uClient.read()\n",
    "    uClient.close()\n",
    "    \n",
    "    page_soup = soup(page_html,'html.parser')\n",
    "    \n",
    "    containers = page_soup.findAll('div', {'class':'item-container'})"
   ]
  },
  {
   "cell_type": "code",
   "execution_count": 22,
   "metadata": {},
   "outputs": [
    {
     "data": {
      "text/plain": [
       "[]"
      ]
     },
     "execution_count": 22,
     "metadata": {},
     "output_type": "execute_result"
    }
   ],
   "source": [
    "url = 'http://www.naukri.com/'\n",
    "hdr = {'User-Agent': 'Mozilla/5.0'}\n",
    "req = Request(url, headers=hdr)\n",
    "uClient = uReq(req)\n",
    "page_html = uClient.read()\n",
    "uClient.close()\n",
    "    \n",
    "page_soup = soup(page_html,'html.parser')\n",
    "page_soup\n",
    "    \n",
    "#containers = page_soup.findAll('article', {'class':\"jobTuple bgWhite br4 mb-8\"})\n",
    "#len(containers)"
   ]
  },
  {
   "cell_type": "code",
   "execution_count": 14,
   "metadata": {},
   "outputs": [
    {
     "name": "stdout",
     "output_type": "stream",
     "text": [
      "<!DOCTYPE html>\n",
      "<html>\n",
      "<head>\n",
      "<title>Naukri reCAPTCHA</title>\n",
      "<meta content=\"noindex, nofollow\" name=\"robots\"/>\n",
      "<link href=\"https://static.naukimg.com/s/4/101/c/common_v62.min.css\" rel=\"stylesheet\"/>\n",
      "<script async=\"\" defer=\"\" src=\"https://www.google.com/recaptcha/api.js\"></script>\n",
      "</head>\n",
      "<body>\n",
      "<div class=\"headGNBWrap\">\n",
      "<div class=\"headGNB cloneCont wrap\" itemscope=\"\" itemtype=\"https://schema.org/Organization\"><a class=\"nLogo fl\" data-ga-track=\"Company Logo|Company Logo\" href=\"#\" itemprop=\"url\"><img alt=\"Naukri.com, Indiaâ€™s No.1 Job Site\" itemprop=\"logo\" src=\"https://static.naukimg.com/s/4/100/i/naukri_Logo.png\"/></a>\n",
      "</div>\n",
      "</div>\n",
      "<div class=\"wrap\">\n",
      "<div class=\"mainSec\">\n",
      "<form action=\"\" method=\"POST\">\n",
      "<div class=\"g-recaptcha\" data-sitekey=\"6Lfr8SEUAAAAACgWL1C--Pup9o8uBElCNXYZ4vfL\"></div>\n",
      "<br/>\n",
      "<input class=\"blueBtn\" type=\"submit\" value=\"Submit\"/>\n",
      "</form>\n",
      "</div>\n",
      "</div>\n",
      "</body>\n",
      "</html>\n",
      "\n"
     ]
    }
   ],
   "source": [
    "from bs4 import BeautifulSoup\n",
    "from urllib.request import Request, urlopen\n",
    "\n",
    "site= \"https://www.naukri.com/software-developer-jobs?k=software%20developer\"\n",
    "hdr = {'User-Agent': 'Mozilla/5.0'}\n",
    "req = Request(site,headers=hdr)\n",
    "page = urlopen(req)\n",
    "soup = BeautifulSoup(page)\n",
    "print(soup)"
   ]
  },
  {
   "cell_type": "code",
   "execution_count": null,
   "metadata": {},
   "outputs": [],
   "source": []
  }
 ],
 "metadata": {
  "kernelspec": {
   "display_name": "Python 3",
   "language": "python",
   "name": "python3"
  },
  "language_info": {
   "codemirror_mode": {
    "name": "ipython",
    "version": 3
   },
   "file_extension": ".py",
   "mimetype": "text/x-python",
   "name": "python",
   "nbconvert_exporter": "python",
   "pygments_lexer": "ipython3",
   "version": "3.7.3"
  }
 },
 "nbformat": 4,
 "nbformat_minor": 2
}
